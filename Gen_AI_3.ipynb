{
  "nbformat": 4,
  "nbformat_minor": 0,
  "metadata": {
    "colab": {
      "provenance": [],
      "authorship_tag": "ABX9TyPL25zNb6kCinErge/lVEJA",
      "include_colab_link": true
    },
    "kernelspec": {
      "name": "python3",
      "display_name": "Python 3"
    },
    "language_info": {
      "name": "python"
    }
  },
  "cells": [
    {
      "cell_type": "markdown",
      "metadata": {
        "id": "view-in-github",
        "colab_type": "text"
      },
      "source": [
        "<a href=\"https://colab.research.google.com/github/SHAESTHA-KOWNAIN/GEN_AI_2503/blob/main/Gen_AI_3.ipynb\" target=\"_parent\"><img src=\"https://colab.research.google.com/assets/colab-badge.svg\" alt=\"Open In Colab\"/></a>"
      ]
    },
    {
      "cell_type": "markdown",
      "source": [
        "##Write Python code without using any libraries to find the value of x at which the function f(x) shown in equation (1) has minimum value. Consider Gradient Descent Algorithm"
      ],
      "metadata": {
        "id": "PFvRlR4BwuDi"
      }
    },
    {
      "cell_type": "code",
      "execution_count": null,
      "metadata": {
        "colab": {
          "base_uri": "https://localhost:8080/"
        },
        "id": "sUTQ5itlwiQ4",
        "outputId": "d47b3117-120e-47be-de67-271acbaac99d"
      },
      "outputs": [
        {
          "output_type": "stream",
          "name": "stdout",
          "text": [
            "Minimum value of x for f(x): 5.963540395046457e-28\n"
          ]
        }
      ],
      "source": [
        "def gradient(learning_rate=0.01, iterations=1000):\n",
        "    x = 1\n",
        "    for _ in range(iterations):\n",
        "        gradient = 20 * x**3 + 6 * x\n",
        "        x -= learning_rate * gradient\n",
        "    return x\n",
        "\n",
        "x_min = gradient()\n",
        "print(f\"Minimum value of x for f(x): {x_min}\")"
      ]
    },
    {
      "cell_type": "markdown",
      "source": [
        "##Write Python code without using any libraries to find the value of x and y at which thefunction g(x,y)  has minimum value. Consider Gradient Descent Algorithm.\n",
        "f (x) = 3x2 + 5e−y + 10"
      ],
      "metadata": {
        "id": "C1fGphRB35gP"
      }
    },
    {
      "cell_type": "code",
      "source": [
        "import math\n",
        "def gradient_descent_2d(learning_rate=0.01, iterations=1000):\n",
        "    x, y = 0 , 0\n",
        "    for _ in range(iterations):\n",
        "        gradient_x = 6 * x\n",
        "        gradient_y = -5 * (-math.exp(min(-y, 700)))\n",
        "        x -= learning_rate * gradient_x\n",
        "        y -= learning_rate * gradient_y\n",
        "    return x, y\n",
        "\n",
        "x_min, y_min = gradient_descent_2d()\n",
        "print(f\"Minimum value of (x, y) for g(x, y): ({x_min}, {y_min})\")\n"
      ],
      "metadata": {
        "colab": {
          "base_uri": "https://localhost:8080/"
        },
        "id": "8tNnOvsE3-dQ",
        "outputId": "43a1ccf0-762f-452e-a0d8-e86cf734a52c"
      },
      "execution_count": null,
      "outputs": [
        {
          "output_type": "stream",
          "name": "stdout",
          "text": [
            "Minimum value of (x, y) for g(x, y): (0.0, -4.949452427106836e+305)\n"
          ]
        }
      ]
    },
    {
      "cell_type": "markdown",
      "source": [
        "##Write Python code without using any libraries to find the value of x at which the sigmoid function z(x) has minimum value. Consider Gradient Descent Algorithm\n"
      ],
      "metadata": {
        "id": "zMLAsfd85MBR"
      }
    },
    {
      "cell_type": "code",
      "source": [
        "def gradient_descent_sigmoid(learning_rate=0.01, iterations=1000):\n",
        "    x = 0\n",
        "    for _ in range(iterations):\n",
        "        gradient = (1 / (1 + 2.718**(-x))) * (1 - (1 / (1 + 2.718**(-x))))\n",
        "        x -= learning_rate * gradient\n",
        "    return x\n",
        "\n",
        "min_sigmoid = gradient_descent_sigmoid()\n",
        "print(f\"Minimum value of x for z(x): {min_sigmoid}\")"
      ],
      "metadata": {
        "colab": {
          "base_uri": "https://localhost:8080/"
        },
        "id": "I2LDJPcZ5dzW",
        "outputId": "fd240274-d875-47cd-ccbd-0955e416b20b"
      },
      "execution_count": null,
      "outputs": [
        {
          "output_type": "stream",
          "name": "stdout",
          "text": [
            "Minimum value of x for z(x): -1.8619077201329008\n"
          ]
        }
      ]
    },
    {
      "cell_type": "markdown",
      "source": [
        "##Write Python code without using any libraries to find the value of optimal values of model parameters M and C such that the model’s Square Error Value  will be minimum."
      ],
      "metadata": {
        "id": "eIMCaKho5-54"
      }
    },
    {
      "cell_type": "code",
      "source": [
        "def gradient_mc(learning_rate=0.01, iterations=1000):\n",
        "    M, C = 0, 0\n",
        "    input_value = 2\n",
        "    expected_output = 0.5\n",
        "    for _ in range(iterations):\n",
        "        predicted_output = M * input_value + C\n",
        "        error = (expected_output - predicted_output)\n",
        "        gradient_M = -2 * input_value * error\n",
        "        gradient_C = -2 * error\n",
        "        M -= learning_rate * gradient_M\n",
        "        C -= learning_rate * gradient_C\n",
        "\n",
        "    return M, C\n",
        "M_opt, C_opt = gradient_mc()\n",
        "print(f\"Optimal values for M and C: M = {M_opt}, C = {C_opt}\")"
      ],
      "metadata": {
        "colab": {
          "base_uri": "https://localhost:8080/"
        },
        "id": "o54gqLsh59zM",
        "outputId": "11094690-109c-47eb-bad8-005df709028e"
      },
      "execution_count": null,
      "outputs": [
        {
          "output_type": "stream",
          "name": "stdout",
          "text": [
            "Optimal values for M and C: M = 0.19609360158187086, C = 0.09804680079093543\n"
          ]
        }
      ]
    }
  ]
}