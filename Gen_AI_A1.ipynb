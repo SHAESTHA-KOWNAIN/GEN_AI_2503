{
  "nbformat": 4,
  "nbformat_minor": 0,
  "metadata": {
    "colab": {
      "provenance": [],
      "authorship_tag": "ABX9TyPkHoSrk+D8dFH3tsMEH52n",
      "include_colab_link": true
    },
    "kernelspec": {
      "name": "python3",
      "display_name": "Python 3"
    },
    "language_info": {
      "name": "python"
    }
  },
  "cells": [
    {
      "cell_type": "markdown",
      "metadata": {
        "id": "view-in-github",
        "colab_type": "text"
      },
      "source": [
        "<a href=\"https://colab.research.google.com/github/SHAESTHA-KOWNAIN/GEN_AI_2503/blob/main/Gen_AI_A1.ipynb\" target=\"_parent\"><img src=\"https://colab.research.google.com/assets/colab-badge.svg\" alt=\"Open In Colab\"/></a>"
      ]
    },
    {
      "cell_type": "markdown",
      "source": [
        "##Regression Metrics\n"
      ],
      "metadata": {
        "id": "HoZdwkJjpQLm"
      }
    },
    {
      "cell_type": "code",
      "execution_count": 22,
      "metadata": {
        "id": "RLqEOJhxn6fx"
      },
      "outputs": [],
      "source": [
        "ya=[20,30,40,50,60]\n",
        "yp=[20.5,30.3,40.2,50.6,60.7]"
      ]
    },
    {
      "cell_type": "markdown",
      "source": [
        "##Without libraries"
      ],
      "metadata": {
        "id": "iBsVBjBIpUxi"
      }
    },
    {
      "cell_type": "code",
      "source": [
        "total = 0\n",
        "for i in range(len(ya)):\n",
        "  total = total + (ya[i] - yp[i])**2\n",
        "mse = total / len(ya)\n",
        "print(\"mean square error : \", mse)"
      ],
      "metadata": {
        "colab": {
          "base_uri": "https://localhost:8080/"
        },
        "id": "Juhnr_CooOP4",
        "outputId": "8e60e7b1-4863-4847-cfef-701edc7afb95"
      },
      "execution_count": 23,
      "outputs": [
        {
          "output_type": "stream",
          "name": "stdout",
          "text": [
            "mean square error :  0.24600000000000147\n"
          ]
        }
      ]
    },
    {
      "cell_type": "code",
      "source": [
        "sum=0\n",
        "for i in range(len(ya)):\n",
        "  sum=sum+abs((ya[i]-yp[i]))\n",
        "mae = sum/len(ya)\n",
        "print(\"mean absolute error : \",mae)"
      ],
      "metadata": {
        "colab": {
          "base_uri": "https://localhost:8080/"
        },
        "id": "Pe-oHCL5oUUU",
        "outputId": "d6094db0-bdf7-41d9-8e26-57e85ccffb66"
      },
      "execution_count": 24,
      "outputs": [
        {
          "output_type": "stream",
          "name": "stdout",
          "text": [
            "mean absolute error :  0.4600000000000016\n"
          ]
        }
      ]
    },
    {
      "cell_type": "code",
      "source": [
        "print(\"Root mean square error : \",(mse)**0.5)"
      ],
      "metadata": {
        "colab": {
          "base_uri": "https://localhost:8080/"
        },
        "id": "VNYRq0Y5oWfs",
        "outputId": "5b58afa3-2a47-4478-e7c6-6194a987d8ab"
      },
      "execution_count": 25,
      "outputs": [
        {
          "output_type": "stream",
          "name": "stdout",
          "text": [
            "Root mean square error :  0.49598387070549127\n"
          ]
        }
      ]
    },
    {
      "cell_type": "markdown",
      "source": [
        "##with libraries"
      ],
      "metadata": {
        "id": "MANOWpvFpYzv"
      }
    },
    {
      "cell_type": "code",
      "source": [
        "from sklearn.metrics import mean_squared_error,mean_absolute_error,root_mean_squared_error\n",
        ""
      ],
      "metadata": {
        "id": "YHHWCi_qoYNR"
      },
      "execution_count": 26,
      "outputs": []
    },
    {
      "cell_type": "code",
      "source": [
        "print(\"mean square error : \",mean_squared_error(ya,yp))\n",
        "print(\"mean absolute error : \",mean_absolute_error(ya,yp))\n",
        "print(\"Root mean square error : \",root_mean_squared_error(ya,yp))\n",
        ""
      ],
      "metadata": {
        "colab": {
          "base_uri": "https://localhost:8080/"
        },
        "id": "JZsHLdJLocB5",
        "outputId": "8c449dae-da6d-4f79-bd8b-2f1f29d994ba"
      },
      "execution_count": 27,
      "outputs": [
        {
          "output_type": "stream",
          "name": "stdout",
          "text": [
            "mean square error :  0.24600000000000147\n",
            "mean absolute error :  0.4600000000000016\n",
            "Root mean square error :  0.49598387070549127\n"
          ]
        }
      ]
    },
    {
      "cell_type": "code",
      "source": [],
      "metadata": {
        "id": "399BVLjotQM0"
      },
      "execution_count": null,
      "outputs": []
    },
    {
      "cell_type": "markdown",
      "source": [
        "##classification metrices\n"
      ],
      "metadata": {
        "id": "-GS-eUI8pbLQ"
      }
    },
    {
      "cell_type": "code",
      "source": [
        "\n",
        "ya1=[0,0,0,0,0,1,1,1,1,1,1,2,2,2,2,2]\n",
        "yp1=[0,0,1,2,2,1,0,2,0,2,2,0,0,1,2,2]\n",
        ""
      ],
      "metadata": {
        "id": "ndzVl97toc7P"
      },
      "execution_count": 28,
      "outputs": []
    },
    {
      "cell_type": "markdown",
      "source": [
        "##without libraries"
      ],
      "metadata": {
        "id": "r-Od-7_JpeeY"
      }
    },
    {
      "cell_type": "code",
      "source": [
        "min_label = min(min(ya1), min(yp1))\n",
        "max_label = max(max(ya1), max(yp1))\n",
        "num_classes = max_label - min_label + 1\n",
        "\n",
        "cm = [[0 for _ in range(num_classes)] for _ in range(num_classes)]\n",
        "\n",
        "for i in range(len(ya1)):\n",
        "    cm[ya1[i]-min_label][yp1[i]-min_label] += 1\n",
        "\n",
        "for row in cm:\n",
        "    print(row)"
      ],
      "metadata": {
        "colab": {
          "base_uri": "https://localhost:8080/"
        },
        "id": "cNMWDKxCoezJ",
        "outputId": "662db501-8433-4590-b926-b594dcec770b"
      },
      "execution_count": 29,
      "outputs": [
        {
          "output_type": "stream",
          "name": "stdout",
          "text": [
            "[2, 1, 2]\n",
            "[2, 1, 3]\n",
            "[2, 1, 2]\n"
          ]
        }
      ]
    },
    {
      "cell_type": "code",
      "source": [
        "import numpy as np\n",
        ""
      ],
      "metadata": {
        "id": "GBTia7sxop1N"
      },
      "execution_count": 30,
      "outputs": []
    },
    {
      "cell_type": "code",
      "source": [
        "accuracy = np.sum(np.diagonal(cm)) / np.sum(cm)\n",
        "\n",
        "precision = {}\n",
        "recall = {}\n",
        "f1_score = {}\n",
        "\n",
        "for i in range(num_classes):\n",
        "    true_positive = cm[i][i]\n",
        "    false_positive = np.sum(cm[j][i] for j in range(num_classes)) - true_positive\n",
        "    false_negative = np.sum(cm[i][j] for j in range(num_classes)) - true_positive\n",
        "    true_negative = np.sum(np.sum(cm[row][col] for col in range(num_classes)) for row in range(num_classes)) - (true_positive + false_positive + false_negative)\n",
        "\n",
        "    # Precision: TP / (TP + FP)\n",
        "    precision[i] = true_positive / (true_positive + false_positive) if (true_positive + false_positive) > 0 else 0\n",
        "\n",
        "    # Recall: TP / (TP + FN)\n",
        "    recall[i] = true_positive / (true_positive + false_negative) if (true_positive + false_negative) > 0 else 0\n",
        "\n",
        "    # F1 Score: 2 * (Precision * Recall) / (Precision + Recall)\n",
        "    if precision[i] + recall[i] > 0:\n",
        "        f1_score[i] = 2 * (precision[i] * recall[i]) / (precision[i] + recall[i])\n",
        "    else:\n",
        "        f1_score[i] = 0\n",
        "# Calculate overall precision, recall, and F1-score using numpy\n",
        "overall_precision = np.sum([precision[i] for i in range(num_classes)])/num_classes\n",
        "overall_recall = np.sum([recall[i] for i in range(num_classes)])/num_classes\n",
        "overall_f1_score = np.sum([f1_score[i] for i in range(num_classes)])/num_classes\n",
        "\n",
        "# Print results\n",
        "for i in range(num_classes):\n",
        "    print(f\"\\nClass {i + min_label}:\")\n",
        "    print(f\"  Precision: {precision[i]:.2f}\")\n",
        "    print(f\"  Recall: {recall[i]:.2f}\")\n",
        "    print(f\"  F1-Score: {f1_score[i]:.2f}\")\n",
        "\n",
        "\n",
        "print(\"\\nMetrics:\")\n",
        "print(f\"Overall Accuracy: {accuracy:.2f}\")\n",
        "print(f\"Overall Precision: {overall_precision:.2f}\")\n",
        "print(f\"Overall Recall: {overall_recall:.2f}\")\n",
        "print(f\"Overall F1-Score: {overall_f1_score:.2f}\")\n",
        "\n",
        "print()\n",
        "print()"
      ],
      "metadata": {
        "colab": {
          "base_uri": "https://localhost:8080/"
        },
        "id": "a08sKzYqowXd",
        "outputId": "ae3e81ea-4cb6-4ab4-8491-5dc04d71ed44"
      },
      "execution_count": 31,
      "outputs": [
        {
          "output_type": "stream",
          "name": "stdout",
          "text": [
            "\n",
            "Class 0:\n",
            "  Precision: 0.33\n",
            "  Recall: 0.40\n",
            "  F1-Score: 0.36\n",
            "\n",
            "Class 1:\n",
            "  Precision: 0.33\n",
            "  Recall: 0.17\n",
            "  F1-Score: 0.22\n",
            "\n",
            "Class 2:\n",
            "  Precision: 0.29\n",
            "  Recall: 0.40\n",
            "  F1-Score: 0.33\n",
            "\n",
            "Metrics:\n",
            "Overall Accuracy: 0.31\n",
            "Overall Precision: 0.32\n",
            "Overall Recall: 0.32\n",
            "Overall F1-Score: 0.31\n",
            "\n",
            "\n"
          ]
        },
        {
          "output_type": "stream",
          "name": "stderr",
          "text": [
            "<ipython-input-31-5d922b0979af>:9: DeprecationWarning: Calling np.sum(generator) is deprecated, and in the future will give a different result. Use np.sum(np.fromiter(generator)) or the python sum builtin instead.\n",
            "  false_positive = np.sum(cm[j][i] for j in range(num_classes)) - true_positive\n",
            "<ipython-input-31-5d922b0979af>:10: DeprecationWarning: Calling np.sum(generator) is deprecated, and in the future will give a different result. Use np.sum(np.fromiter(generator)) or the python sum builtin instead.\n",
            "  false_negative = np.sum(cm[i][j] for j in range(num_classes)) - true_positive\n",
            "<ipython-input-31-5d922b0979af>:11: DeprecationWarning: Calling np.sum(generator) is deprecated, and in the future will give a different result. Use np.sum(np.fromiter(generator)) or the python sum builtin instead.\n",
            "  true_negative = np.sum(np.sum(cm[row][col] for col in range(num_classes)) for row in range(num_classes)) - (true_positive + false_positive + false_negative)\n"
          ]
        }
      ]
    },
    {
      "cell_type": "markdown",
      "source": [
        "##with libraries"
      ],
      "metadata": {
        "id": "8MUj99YVph3Y"
      }
    },
    {
      "cell_type": "code",
      "source": [
        "from sklearn.metrics import accuracy_score,precision_score,f1_score,recall_score,classification_report,confusion_matrix\n",
        ""
      ],
      "metadata": {
        "id": "O7637SQJpCpA"
      },
      "execution_count": 32,
      "outputs": []
    },
    {
      "cell_type": "code",
      "source": [
        "print(confusion_matrix(ya1,yp1))"
      ],
      "metadata": {
        "colab": {
          "base_uri": "https://localhost:8080/"
        },
        "id": "g4saIOqxpF5N",
        "outputId": "f771fee2-77fd-4930-d09d-bc18371a7fa1"
      },
      "execution_count": 33,
      "outputs": [
        {
          "output_type": "stream",
          "name": "stdout",
          "text": [
            "[[2 1 2]\n",
            " [2 1 3]\n",
            " [2 1 2]]\n"
          ]
        }
      ]
    },
    {
      "cell_type": "code",
      "source": [
        "print(classification_report(ya1,yp1))"
      ],
      "metadata": {
        "colab": {
          "base_uri": "https://localhost:8080/"
        },
        "id": "l6VJnw5OpKO0",
        "outputId": "edab5763-5838-40d7-d4e0-041bee2ab9a9"
      },
      "execution_count": 34,
      "outputs": [
        {
          "output_type": "stream",
          "name": "stdout",
          "text": [
            "              precision    recall  f1-score   support\n",
            "\n",
            "           0       0.33      0.40      0.36         5\n",
            "           1       0.33      0.17      0.22         6\n",
            "           2       0.29      0.40      0.33         5\n",
            "\n",
            "    accuracy                           0.31        16\n",
            "   macro avg       0.32      0.32      0.31        16\n",
            "weighted avg       0.32      0.31      0.30        16\n",
            "\n"
          ]
        }
      ]
    },
    {
      "cell_type": "code",
      "source": [
        "print(\"\\nMetrics:\")\n",
        "print(f\"Overall Accuracy: {accuracy_score(ya1,yp1):.2f}\")\n",
        "print(f\"Overall Precision: {precision_score(ya1,yp1, average='weighted'):.2f}\")\n",
        "print(f\"Overall Recall: {recall_score(ya1,yp1, average='weighted'):.2f}\")\n",
        "print(f\"Overall F1-Score: {f1_score(ya1,yp1, average='weighted'):.2f}\")\n",
        ""
      ],
      "metadata": {
        "colab": {
          "base_uri": "https://localhost:8080/"
        },
        "id": "CUWNeIWxpK8X",
        "outputId": "32dd738c-4854-4206-8d11-068759c014b7"
      },
      "execution_count": 35,
      "outputs": [
        {
          "output_type": "stream",
          "name": "stdout",
          "text": [
            "\n",
            "Metrics:\n",
            "Overall Accuracy: 0.31\n",
            "Overall Precision: 0.32\n",
            "Overall Recall: 0.31\n",
            "Overall F1-Score: 0.30\n"
          ]
        }
      ]
    }
  ]
}